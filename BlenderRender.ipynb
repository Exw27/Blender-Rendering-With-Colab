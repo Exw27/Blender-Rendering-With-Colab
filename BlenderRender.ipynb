{
  "nbformat": 4,
  "nbformat_minor": 0,
  "metadata": {
    "colab": {
      "name": "BlenderRender",
      "provenance": [],
      "include_colab_link": true
    },
    "kernelspec": {
      "name": "python3",
      "display_name": "Python 3"
    },
    "language_info": {
      "name": "python"
    },
    "accelerator": "GPU"
  },
  "cells": [
    {
      "cell_type": "markdown",
      "metadata": {
        "id": "view-in-github",
        "colab_type": "text"
      },
      "source": [
        "<a href=\"https://colab.research.google.com/github/Exw27/Blender-Rendering-With-Colab/blob/main/BlenderRender.ipynb\" target=\"_parent\"><img src=\"https://colab.research.google.com/assets/colab-badge.svg\" alt=\"Open In Colab\"/></a>"
      ]
    },
    {
      "cell_type": "markdown",
      "source": [
        "# **Blender rendering through Google Colab**\n",
        "                                      \n",
        "# by. Exw27 "
      ],
      "metadata": {
        "id": "YSvUAQAjw8X7"
      }
    },
    {
      "cell_type": "markdown",
      "source": [
        "**First click File - Save a copy in drive**\n",
        "\n",
        "**Than Edit - Notebook settings and make sure that Hardware accelerator is set to GPU**"
      ],
      "metadata": {
        "id": "KeGJHBm-62fI"
      }
    },
    {
      "cell_type": "markdown",
      "source": [
        "#====================================="
      ],
      "metadata": {
        "id": "1EFynMAUzoDC"
      }
    },
    {
      "cell_type": "code",
      "execution_count": null,
      "metadata": {
        "id": "wBhmKEnQo7eQ"
      },
      "outputs": [],
      "source": [
        "#Connect Google Drive to Google Colab\n",
        "#=====================================\n",
        "from google.colab import drive\n",
        "drive.mount('/content/drive')"
      ]
    },
    {
      "cell_type": "code",
      "source": [
        "#Check NVidia GPU Status. What GPU you are using\n",
        "#=================================================================\n",
        "!nvidia-smi"
      ],
      "metadata": {
        "id": "4CNYKr3Apk0Q"
      },
      "execution_count": null,
      "outputs": []
    },
    {
      "cell_type": "code",
      "source": [
        "#Download Blender from Blender Repository. \n",
        "#Other Versions are here: https://download.blender.org/release/\n",
        "#=====================================\n",
        "!wget https://download.blender.org/release/Blender3.2/blender-3.2.0-linux-x64.tar.xz"
      ],
      "metadata": {
        "id": "2nsScAAKpR4T"
      },
      "execution_count": null,
      "outputs": []
    },
    {
      "cell_type": "markdown",
      "source": [
        "#====================================="
      ],
      "metadata": {
        "id": "XQQLGKpvzRxi"
      }
    },
    {
      "cell_type": "code",
      "source": [
        "#Use these commands to move Blender zip file to Google Drive and then back to working directory so you don't have to download Blender each time\n",
        "\n",
        "#Copy Blender Zip File to Google Drive\n",
        "#=====================================\n",
        "!cp /content/blender-3.0.0-linux-x64.tar.xz /content/drive/MyDrive/blender-3.0.0-linux-x64.tar.xz"
      ],
      "metadata": {
        "id": "H-TiXpoDyq2_"
      },
      "execution_count": null,
      "outputs": []
    },
    {
      "cell_type": "code",
      "source": [
        "#Copy Blender Zip File from Google Drive\n",
        "#=====================================\n",
        "!cp /content/drive/MyDrive/blender-3.0.0-linux-x64.tar.xz /content/blender-3.0.0-linux-x64.tar.xz"
      ],
      "metadata": {
        "id": "CgdMqwo0ytSe"
      },
      "execution_count": null,
      "outputs": []
    },
    {
      "cell_type": "markdown",
      "source": [
        "#====================================="
      ],
      "metadata": {
        "id": "ym0VNq7wzVOk"
      }
    },
    {
      "cell_type": "code",
      "source": [
        "#Unzip Blender \n",
        "#=====================================\n",
        "!tar xf blender-3.0.0-linux-x64.tar.xz"
      ],
      "metadata": {
        "id": "jbbe4zWvpZFy"
      },
      "execution_count": null,
      "outputs": []
    },
    {
      "cell_type": "code",
      "source": [
        "#Deletes the Default libtcmalloc-minimal4 version and installs the Ubuntu default version\n",
        "import os\n",
        "\n",
        "os.environ[\"LD_PRELOAD\"] = \"\"\n",
        "\n",
        "#Deletes wrong Version of libtcmalloc-minimal4\n",
        "!apt remove libtcmalloc-minimal4\n",
        "#Installs correct version of libtcmalloc-minimal4\n",
        "!apt install libtcmalloc-minimal4\n",
        "\n",
        "#Adds this library to the user environment\n",
        "os.environ[\"LD_PRELOAD\"] = \"/usr/lib/x86_64-linux-gnu/libtcmalloc_minimal.so.4.3.0\""
      ],
      "metadata": {
        "id": "2bNsyh4Opban"
      },
      "execution_count": null,
      "outputs": []
    },
    {
      "cell_type": "markdown",
      "source": [
        "#====================================="
      ],
      "metadata": {
        "id": "7FkBXwvBzjVx"
      }
    },
    {
      "cell_type": "code",
      "source": [
        "#Path of Blender File to be Rendered \n",
        "#===========================\n",
        "filename = '/content/drive/MyDrive/Blender.blend'"
      ],
      "metadata": {
        "id": "l13ZiD9EpcWq"
      },
      "execution_count": null,
      "outputs": []
    },
    {
      "cell_type": "code",
      "source": [
        "#Render Single Frame: Change -f 1 to -f 100 to render frame 100 for example\n",
        "#===========================================================================\n",
        "!./blender-3.0.0-linux-x64/blender -b $filename -noaudio -E 'CYCLES' --debug-all -o \"/content/drive/MyDrive/Blender\" -f 1 -F 'PNG' -- --cycles-device CUDA"
      ],
      "metadata": {
        "id": "RHPE4g1zvv6_"
      },
      "execution_count": null,
      "outputs": []
    },
    {
      "cell_type": "code",
      "source": [
        "#Render Animation: -s 1 and -e 250 means, render frames 1 to 250 of animation, -a means render animation. Animation will be rendered in whatever format was chosen in blender file. i.e. MP4\n",
        "#===========================================================================\n",
        "!./blender-3.0.0-linux-x64/blender -b $filename -noaudio -E 'CYCLES' -o \"/content/drive/MyDrive/Blender\" -s 1 -e 250 -a -- --cycles-device CUDA"
      ],
      "metadata": {
        "id": "02pNakVCv-MN"
      },
      "execution_count": null,
      "outputs": []
    },
    {
      "cell_type": "code",
      "source": [
        "#Render Single Frame using OPTIX, if GPU supports it, otherwise use CUDA. \n",
        "#===========================================================================\n",
        "!./blender-3.0.0-linux-x64/blender -b $filename -noaudio -E 'CYCLES' -o \"/content/drive/MyDrive/Blender\" -f 1 -F 'PNG' -- --cycles-device OPTIX"
      ],
      "metadata": {
        "id": "xJezZSQbv1Rc"
      },
      "execution_count": null,
      "outputs": []
    },
    {
      "cell_type": "markdown",
      "source": [
        "# **Google Colab was never intendet to be used for rendering this method works but there might be some issues that can ocure eevee rendering for example is not working correctly for the time. If you want to use a better GPU consider geting Colab Pro.**"
      ],
      "metadata": {
        "id": "aAMP6jdk0SuS"
      }
    }
  ]
}
