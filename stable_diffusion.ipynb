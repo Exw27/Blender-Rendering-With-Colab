{
  "nbformat": 4,
  "nbformat_minor": 0,
  "metadata": {
    "colab": {
      "private_outputs": true,
      "provenance": [],
      "collapsed_sections": [],
      "include_colab_link": true
    },
    "kernelspec": {
      "name": "python3",
      "display_name": "Python 3"
    },
    "language_info": {
      "name": "python"
    },
    "accelerator": "GPU",
    "gpuClass": "standard"
  },
  "cells": [
    {
      "cell_type": "markdown",
      "metadata": {
        "id": "view-in-github",
        "colab_type": "text"
      },
      "source": [
        "<a href=\"https://colab.research.google.com/github/Exw27/Blender-Rendering-With-Colab/blob/main/stable_diffusion.ipynb\" target=\"_parent\"><img src=\"https://colab.research.google.com/assets/colab-badge.svg\" alt=\"Open In Colab\"/></a>"
      ]
    },
    {
      "cell_type": "markdown",
      "source": [
        "# **Check if you have a gpu**\n",
        "\n",
        "---\n",
        "\n"
      ],
      "metadata": {
        "id": "zZKQFji8fj8x"
      }
    },
    {
      "cell_type": "code",
      "source": [
        "!nvidia-smi"
      ],
      "metadata": {
        "id": "OzKHkyFV4F0s"
      },
      "execution_count": null,
      "outputs": []
    },
    {
      "cell_type": "markdown",
      "source": [
        "# **Connect your google drive to save your images there.**\n",
        "\n",
        "\n",
        "---\n",
        "\n",
        "\n",
        "\n"
      ],
      "metadata": {
        "id": "Ro4Tj1nG8zCZ"
      }
    },
    {
      "cell_type": "code",
      "source": [
        "from google.colab import drive\n",
        "drive.mount('/content/gdrive')"
      ],
      "metadata": {
        "id": "Fj-zq8-y8VK9"
      },
      "execution_count": null,
      "outputs": []
    },
    {
      "cell_type": "markdown",
      "source": [
        "# **Installing the necesary Requirements**\n",
        "\n",
        "---\n",
        "\n",
        "\n"
      ],
      "metadata": {
        "id": "LzOW8g9tj6sn"
      }
    },
    {
      "cell_type": "code",
      "execution_count": null,
      "metadata": {
        "id": "QuFz5uGi-h6G"
      },
      "outputs": [],
      "source": [
        "%pip install --quiet --upgrade diffusers transformers scipy mediapy"
      ]
    },
    {
      "cell_type": "markdown",
      "source": [
        "# **For the next phase you will nead to register an account with Hugging face so that the model can be downloadet you will also nead to go to https://huggingface.co/CompVis/stable-diffusion-v1-4 and click the acces button so it will allow you to download the model.**\n",
        "\n",
        "---\n",
        "\n"
      ],
      "metadata": {
        "id": "O53p5Kci5xho"
      }
    },
    {
      "cell_type": "code",
      "source": [
        "!huggingface-cli login"
      ],
      "metadata": {
        "id": "GR4vF2bw-sHR"
      },
      "execution_count": null,
      "outputs": []
    },
    {
      "cell_type": "code",
      "source": [
        "from diffusers import PNDMScheduler, DDIMScheduler, LMSDiscreteScheduler\n",
        "\n",
        "scheduler = PNDMScheduler(beta_start=0.00085, beta_end=0.012, beta_schedule=\"scaled_linear\", skip_prk_steps=True)\n",
        "# scheduler = DDIMScheduler(beta_start=0.00085, beta_end=0.012, beta_schedule=\"scaled_linear\")\n",
        "# scheduler = LMSDiscreteScheduler(beta_start=0.00085, beta_end=0.012, beta_schedule=\"scaled_linear\")"
      ],
      "metadata": {
        "id": "vF9Q0xKX8gLR"
      },
      "execution_count": null,
      "outputs": []
    },
    {
      "cell_type": "code",
      "source": [
        "import mediapy as media\n",
        "import torch\n",
        "from torch import autocast\n",
        "from diffusers import StableDiffusionPipeline\n",
        "\n",
        "model_id = \"CompVis/stable-diffusion-v1-4\"\n",
        "device = \"cuda\"\n",
        "remove_safety = True\n",
        "\n",
        "\n",
        "pipe = StableDiffusionPipeline.from_pretrained(model_id, scheduler=scheduler, torch_dtype=torch.float16, revision=\"fp16\", use_auth_token=True)\n",
        "if remove_safety:\n",
        "  pipe.safety_checker = lambda images, clip_input: (images, False)\n",
        "pipe = pipe.to(device)\n",
        "\n"
      ],
      "metadata": {
        "id": "bG2hkmSEvByV"
      },
      "execution_count": null,
      "outputs": []
    },
    {
      "cell_type": "markdown",
      "source": [
        "# **Here you can enter the parametars for your image **\n",
        "\n",
        "1.   **prompt = \"What would you like your image to be\"**\n",
        "2.   **num_images = \"How many images would you like to be generated recomandet amount is 4 or less\"**\n",
        "\n",
        "\n",
        "***Advanced settings***\n",
        "\n",
        "Under images = pipe there are a few settings that can be changed:\n",
        "\n",
        "*   guidance_scale=1 --- 10\n",
        "*   num_inference_steps=50 -number of samples\n",
        "*   height and width= Your desired image resolution\n",
        "*   seed=-1 by defoult -1 will generate a randome sead for each image.\n",
        "\n",
        "\n",
        "\n",
        "\n",
        "\n"
      ],
      "metadata": {
        "id": "MJCUavvk5JRx"
      }
    },
    {
      "cell_type": "code",
      "source": [
        "prompt = \"Photograph of a beautiful woman, Cinematic, by Akihito Yoshida\"\n",
        "num_images = 1\n",
        "\n",
        "\n",
        "prompts = [ prompt ] * num_images\n",
        "with autocast(\"cuda\"):\n",
        "    images = pipe(prompts, guidance_scale=7.5, num_inference_steps=50, height=512, width=768, seed=-1)[\"sample\"]    \n",
        "media.show_images(images)\n",
        "images[0].save(\"output_014.jpg\")\n",
        "\n"
      ],
      "metadata": {
        "id": "AUc4QJfE-uR9"
      },
      "execution_count": null,
      "outputs": []
    },
    {
      "cell_type": "markdown",
      "source": [
        "# **Save image to drive.**\n",
        "\n",
        "---\n",
        "\n"
      ],
      "metadata": {
        "id": "Sf-6wBHOEflQ"
      }
    },
    {
      "cell_type": "code",
      "source": [
        "!cp output_014.jpg \"gdrive/My Drive/Stable_Diffusion\""
      ],
      "metadata": {
        "id": "9-O1iO7cEdYW"
      },
      "execution_count": null,
      "outputs": []
    }
  ]
}