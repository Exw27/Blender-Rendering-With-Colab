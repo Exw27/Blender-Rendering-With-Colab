{
  "nbformat": 4,
  "nbformat_minor": 0,
  "metadata": {
    "colab": {
      "provenance": [],
      "gpuType": "T4",
      "authorship_tag": "ABX9TyPPQFqnPQjsShDNGpBwwgm1",
      "include_colab_link": true
    },
    "kernelspec": {
      "name": "python3",
      "display_name": "Python 3"
    },
    "language_info": {
      "name": "python"
    },
    "accelerator": "GPU"
  },
  "cells": [
    {
      "cell_type": "markdown",
      "metadata": {
        "id": "view-in-github",
        "colab_type": "text"
      },
      "source": [
        "<a href=\"https://colab.research.google.com/github/Exw27/Blender-Rendering-With-Colab/blob/main/Blender_Render.ipynb\" target=\"_parent\"><img src=\"https://colab.research.google.com/assets/colab-badge.svg\" alt=\"Open In Colab\"/></a>"
      ]
    },
    {
      "cell_type": "markdown",
      "source": [
        "### GPU Checker"
      ],
      "metadata": {
        "id": "OvqiPpY59VmC"
      }
    },
    {
      "cell_type": "markdown",
      "source": [
        "T4 GPU - Cuda\n",
        "\n",
        "\n",
        "A100 GPU - Optix, Cuda\n",
        "\n",
        "\n",
        "L4 GPU - Optix, Cuda\n"
      ],
      "metadata": {
        "id": "oamsaqDc9jVL"
      }
    },
    {
      "cell_type": "code",
      "execution_count": null,
      "metadata": {
        "id": "A2Zjxej79Pgk"
      },
      "outputs": [],
      "source": [
        "!nvidia-smi"
      ]
    },
    {
      "cell_type": "markdown",
      "source": [
        "### Dependency"
      ],
      "metadata": {
        "id": "7twCJB8VsD2n"
      }
    },
    {
      "cell_type": "code",
      "source": [
        "!pip install gradio"
      ],
      "metadata": {
        "id": "DFeKGT95DhWZ"
      },
      "execution_count": null,
      "outputs": []
    },
    {
      "cell_type": "markdown",
      "source": [
        "### Main"
      ],
      "metadata": {
        "id": "WigkHtg89ZkS"
      }
    },
    {
      "cell_type": "code",
      "source": [
        "import gradio as gr\n",
        "from google.colab import drive\n",
        "import os\n",
        "import glob\n",
        "from PIL import Image\n",
        "import time\n",
        "\n",
        "# Mount Google Drive\n",
        "drive.mount('/content/drive')\n",
        "\n",
        "# Ensure the directory for rendered images exists\n",
        "rendered_images_dir = '/content/drive/MyDrive/BlenderRenderedImages'\n",
        "os.makedirs(rendered_images_dir, exist_ok=True)\n",
        "\n",
        "# Function to check GPU status\n",
        "def check_gpu():\n",
        "    gpu_status = os.popen('nvidia-smi').read()\n",
        "    return gpu_status\n",
        "\n",
        "# Function to download Blender\n",
        "def download_blender():\n",
        "    url = 'https://download.blender.org/release/Blender4.2/blender-4.2.0-linux-x64.tar.xz'\n",
        "    os.system(f'wget {url}')\n",
        "    os.system('tar xf blender-4.2.0-linux-x64.tar.xz')\n",
        "    return 'Blender downloaded and unpacked.'\n",
        "\n",
        "# Function to fix library issues\n",
        "def fix_libraries():\n",
        "    os.environ[\"LD_PRELOAD\"] = \"\"\n",
        "    os.system('apt remove -y libtcmalloc-minimal4')\n",
        "    os.system('apt install -y libtcmalloc-minimal4')\n",
        "    os.environ[\"LD_PRELOAD\"] = \"/usr/lib/x86_64-linux-gnu/libtcmalloc_minimal.so.4.5.0\"\n",
        "    return 'Libraries fixed.'\n",
        "\n",
        "# Function to render a frame\n",
        "def render_frame(filename, frame, device):\n",
        "    output_path = os.path.join(rendered_images_dir, f\"frame_{frame:04d}.png\")\n",
        "    command = f'./blender-4.2.0-linux-x64/blender -b {filename} -noaudio -E \"CYCLES\" -o \"{output_path}\" -f {frame} -F \"PNG\" -- --cycles-device {device}'\n",
        "\n",
        "    start_time = time.time()\n",
        "    os.system(command)\n",
        "    elapsed_time = time.time() - start_time\n",
        "\n",
        "    if os.path.exists(output_path):\n",
        "        log = f'Frame {frame} rendered using {device}. Output saved to {output_path}. Render time: {elapsed_time:.2f} seconds.'\n",
        "    else:\n",
        "        log = f'Frame {frame} rendering failed. Command used: {command}'\n",
        "\n",
        "    return log\n",
        "\n",
        "# Function to render an animation\n",
        "def render_animation(filename, start_frame, end_frame, device):\n",
        "    output_path = os.path.join(rendered_images_dir, \"frame_####.png\")\n",
        "    command = f'./blender-4.2.0-linux-x64/blender -b {filename} -noaudio -E \"CYCLES\" -o \"{output_path}\" -s {start_frame} -e {end_frame} -a -- --cycles-device {device}'\n",
        "\n",
        "    start_time = time.time()\n",
        "    os.system(command)\n",
        "    elapsed_time = time.time() - start_time\n",
        "\n",
        "    rendered_files = glob.glob(os.path.join(rendered_images_dir, f\"frame_*.png\"))\n",
        "    if rendered_files:\n",
        "        log = f'Animation frames {start_frame} to {end_frame} rendered using {device}. Outputs saved to {rendered_images_dir}. Render time: {elapsed_time:.2f} seconds.'\n",
        "    else:\n",
        "        log = f'Animation rendering failed. Command used: {command}'\n",
        "\n",
        "    return log\n",
        "\n",
        "# Function to display rendered images\n",
        "def display_images():\n",
        "    images = glob.glob(os.path.join(rendered_images_dir, '*.png'))\n",
        "    images.sort()\n",
        "    return images\n",
        "\n",
        "# Gradio interface\n",
        "with gr.Blocks() as demo:\n",
        "    gr.Markdown(\"## Blender Rendering with Google Colab\")\n",
        "\n",
        "    with gr.Tab(\"Setup\"):\n",
        "        gr.Markdown(\"### Step 1: Check GPU Status\")\n",
        "        gpu_output = gr.Textbox(label=\"GPU Status\")\n",
        "        gr.Button(\"Check GPU\").click(check_gpu, outputs=gpu_output)\n",
        "\n",
        "        gr.Markdown(\"### Step 2: Download Blender\")\n",
        "        download_output = gr.Textbox(label=\"Blender Download\")\n",
        "        gr.Button(\"Download Blender\").click(download_blender, outputs=download_output)\n",
        "\n",
        "        gr.Markdown(\"### Step 3: Fix Libraries\")\n",
        "        library_output = gr.Textbox(label=\"Library Fix\")\n",
        "        gr.Button(\"Fix Libraries\").click(fix_libraries, outputs=library_output)\n",
        "\n",
        "    with gr.Tab(\"Render\"):\n",
        "        gr.Markdown(\"### Render a Single Frame\")\n",
        "        blend_file = gr.Textbox(label=\"Blender File Path\", value=\"/content/drive/MyDrive/Blender.blend\")\n",
        "        frame = gr.Number(label=\"Frame Number\", value=1)\n",
        "        device = gr.Dropdown(label=\"Device\", choices=[\"CUDA\", \"OPTIX\"], value=\"CUDA\")\n",
        "        render_output = gr.Textbox(label=\"Render Output\")\n",
        "        gr.Button(\"Render Frame\").click(render_frame, inputs=[blend_file, frame, device], outputs=render_output)\n",
        "\n",
        "        gr.Markdown(\"### Render an Animation\")\n",
        "        start_frame = gr.Number(label=\"Start Frame\", value=1)\n",
        "        end_frame = gr.Number(label=\"End Frame\", value=250)\n",
        "        render_anim_output = gr.Textbox(label=\"Render Animation Output\")\n",
        "        gr.Button(\"Render Animation\").click(render_animation, inputs=[blend_file, start_frame, end_frame, device], outputs=render_anim_output)\n",
        "\n",
        "    with gr.Tab(\"Rendered Images\"):\n",
        "        gr.Markdown(\"### View Rendered Images\")\n",
        "        image_gallery = gr.Gallery(label=\"Rendered Images\")\n",
        "        gr.Button(\"Refresh Images\").click(display_images, outputs=image_gallery)\n",
        "\n",
        "demo.launch(share=True)\n"
      ],
      "metadata": {
        "id": "p6N8I_QedXBw"
      },
      "execution_count": null,
      "outputs": []
    }
  ]
}